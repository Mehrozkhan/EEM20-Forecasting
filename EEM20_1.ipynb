{
  "nbformat": 4,
  "nbformat_minor": 0,
  "metadata": {
    "colab": {
      "name": "EEM20-1",
      "provenance": [],
      "collapsed_sections": [],
      "machine_shape": "hm"
    },
    "kernelspec": {
      "name": "python3",
      "display_name": "Python 3"
    }
  },
  "cells": [
    {
      "cell_type": "code",
      "metadata": {
        "id": "FjhlqG1tVsVH",
        "colab_type": "code",
        "colab": {}
      },
      "source": [
        "import numpy as np\n",
        "import pandas as pd\n",
        "import matplotlib.pyplot as plt\n",
        "\n",
        "!pip install h5netcdf # to install NWP data\n",
        "import h5netcdf # to install NWP data\n",
        "import xarray as xr # to install NWP data\n",
        "import s3fs # to install NWP data\n",
        "\n",
        "import os\n",
        "import plotly.express as px # for price region plotting on map\n",
        "from collections import defaultdict\n",
        "\n",
        "import warningsc\n",
        "warnings.simplefilter('ignore') # Ignoring thrid parting warrnings"
      ],
      "execution_count": null,
      "outputs": []
    },
    {
      "cell_type": "code",
      "metadata": {
        "colab_type": "code",
        "id": "ilAQ2QRsDJ3g",
        "colab": {}
      },
      "source": [
        "# fetching hourly numerical weather prediction\n",
        "date1 = '2000-01-01'\n",
        "date2 = '2000-12-31'\n",
        "mydates = pd.date_range(date1, date2).astype('str').tolist()\n",
        "missing_dates = ['2000-05-14', '2000-09-26']\n",
        "for c in missing_dates:\n",
        "    if c in mydates:\n",
        "        mydates.remove(c)\n",
        "def remove_punc(text):\n",
        "    no_punc= ''.join([c for c in text if c != '-'])\n",
        "    return no_punc\n",
        "dates = list(map(remove_punc, mydates))\n",
        "months = [c[4:6] for c in dates]\n",
        "combined = list(zip(dates, months))\n",
        "def NWP_data(value):\n",
        "    A= None\n",
        "    fs_s3 = s3fs.S3FileSystem(anon=True)\n",
        "    s3path = 'greenlytics-public/forecasting-competition/releases/Task0/'+value[1]+'/'+value[0]+'T00Z.nc'\n",
        "    remote_file_obj = fs_s3.open(s3path, mode='rb')\n",
        "    A= eval(\"xr.open_dataset(remote_file_obj, engine= 'h5netcdf')\")\n",
        "    #exec(\"return A{}\".format(combined[0][0][4:]))\n",
        "    return A\n",
        "for i, value in enumerate(combined):\n",
        "    try:\n",
        "        exec('ds{}= NWP_data(value)'.format(i))\n",
        "        print('ds{} done'.format(i))\n",
        "    except:\n",
        "        print('Could not found value')"
      ],
      "execution_count": null,
      "outputs": []
    },
    {
      "cell_type": "code",
      "metadata": {
        "id": "2yb2dnYtAnHs",
        "colab_type": "code",
        "colab": {}
      },
      "source": [
        "os.listdir()"
      ],
      "execution_count": null,
      "outputs": []
    },
    {
      "cell_type": "code",
      "metadata": {
        "id": "b6R53T2utuuo",
        "colab_type": "code",
        "colab": {}
      },
      "source": [
        "power_data= pd.read_csv('windpower_task0_updated.csv') #fetching power data\n",
        "turbine_data= pd.read_csv('windturbines.csv') #fetching turbines credentials"
      ],
      "execution_count": null,
      "outputs": []
    },
    {
      "cell_type": "code",
      "metadata": {
        "id": "oCIgPT0cKU5X",
        "colab_type": "code",
        "colab": {}
      },
      "source": [
        "power_data.head()"
      ],
      "execution_count": null,
      "outputs": []
    },
    {
      "cell_type": "code",
      "metadata": {
        "id": "xd53nnjZKhzK",
        "colab_type": "code",
        "colab": {}
      },
      "source": [
        "turbine_data.head()"
      ],
      "execution_count": null,
      "outputs": []
    },
    {
      "cell_type": "markdown",
      "metadata": {
        "id": "sTazLrY2MYny",
        "colab_type": "text"
      },
      "source": [
        "So there are 4004 turbines with columns  'Unnamed: 0',   'Wind turbine ID', 'Terrain height [m]',\n",
        "        'Nacelle height [m]', 'Rotor diameter [m]',   'Max power [MW]',\n",
        "       'Price region', 'Installation date', 'Longitude', 'Latitude'."
      ]
    },
    {
      "cell_type": "code",
      "metadata": {
        "id": "y7k-N-4DxRvJ",
        "colab_type": "code",
        "colab": {}
      },
      "source": [
        "# Satellite view of windturbines\n",
        "fig = px.scatter_mapbox(turbine_data, lat=\"Latitude\", lon=\"Longitude\", hover_name=\"Wind turbine ID\", hover_data=['Installation date','Max power [MW]']\n",
        "                        , zoom=3, height=300, color= 'Price region')\n",
        "fig.update_layout(\n",
        "    mapbox_style=\"white-bg\",\n",
        "    mapbox_layers=[\n",
        "        {\n",
        "            \"below\": 'traces',\n",
        "            \"sourcetype\": \"raster\",\n",
        "            \"source\": [\n",
        "                \"https://basemap.nationalmap.gov/arcgis/rest/services/USGSImageryOnly/MapServer/tile/{z}/{y}/{x}\"\n",
        "            ]\n",
        "        }\n",
        "      ])\n",
        "fig.update_layout(margin={\"r\":0,\"t\":0,\"l\":0,\"b\":0})\n",
        "fig.show()"
      ],
      "execution_count": null,
      "outputs": []
    },
    {
      "cell_type": "code",
      "metadata": {
        "id": "Q7rxV4gBPb2G",
        "colab_type": "code",
        "colab": {}
      },
      "source": [
        "power_data.rename(columns={'Unnamed: 0' : 'Timestamp'}, inplace= True) # changing name of times column "
      ],
      "execution_count": null,
      "outputs": []
    },
    {
      "cell_type": "code",
      "metadata": {
        "id": "4aMg677IP3sK",
        "colab_type": "code",
        "colab": {}
      },
      "source": [
        "power_data.head()"
      ],
      "execution_count": null,
      "outputs": []
    },
    {
      "cell_type": "code",
      "metadata": {
        "id": "wSggY8W-bjNE",
        "colab_type": "code",
        "colab": {}
      },
      "source": [
        "values= []\n",
        "for region in ['SE1', 'SE2', 'SE3', 'SE4']:\n",
        "    for charac in ['Terrain height [m]', 'Nacelle height [m]', 'Rotor diameter [m]', 'Max power [MW]']:\n",
        "        value= turbine_data[turbine_data['Price region'] == region ][charac].mean()\n",
        "        values.append((region , value))\n",
        "\n",
        "values_dict= defaultdict(list)\n",
        "for region, value in values:\n",
        "    values_dict[region].append(value)\n",
        "mean_df = pd.DataFrame(data= values_dict, index= ['Mean_Terrain height [m]', 'Mean_Nacelle height [m]', 'Mean_Rotor diameter [m]', 'Mean_Max power [MW]'])\n",
        "mean_df"
      ],
      "execution_count": null,
      "outputs": []
    },
    {
      "cell_type": "code",
      "metadata": {
        "id": "TAJ_GRHCChM-",
        "colab_type": "code",
        "colab": {}
      },
      "source": [
        "power_data.info()"
      ],
      "execution_count": null,
      "outputs": []
    },
    {
      "cell_type": "code",
      "metadata": {
        "id": "O9Pzdr4Fsf-T",
        "colab_type": "code",
        "colab": {}
      },
      "source": [
        "power_data.set_index('Timestamp', inplace= True)\n",
        "power_data.describe()"
      ],
      "execution_count": null,
      "outputs": []
    },
    {
      "cell_type": "code",
      "metadata": {
        "id": "1dltjNHZDt61",
        "colab_type": "code",
        "colab": {}
      },
      "source": [
        "turbine_data.info()"
      ],
      "execution_count": null,
      "outputs": []
    },
    {
      "cell_type": "markdown",
      "metadata": {
        "id": "xw7EUM4l7Z_6",
        "colab_type": "text"
      },
      "source": [
        "We have 24 values for each coordinate. We have 169 * 71 different locations. We have 10 different forecasted value for each location."
      ]
    },
    {
      "cell_type": "code",
      "metadata": {
        "id": "hPT0UsY0MnhN",
        "colab_type": "code",
        "colab": {}
      },
      "source": [
        "power_data.reset_index(inplace= True)\n",
        "power_data.head()"
      ],
      "execution_count": null,
      "outputs": []
    },
    {
      "cell_type": "code",
      "metadata": {
        "colab_type": "code",
        "id": "m4J1ULmsaxD7",
        "colab": {}
      },
      "source": [
        "power_data.Timestamp = pd.to_datetime(power_data.Timestamp)\n",
        "power_data['Month'] = power_data.Timestamp.dt.month\n",
        "power_data['Hour'] = power_data.Timestamp.dt.hour\n",
        "power_data['Day']= power_data.Timestamp.dt.day\n",
        "power_data.head()"
      ],
      "execution_count": null,
      "outputs": []
    },
    {
      "cell_type": "code",
      "metadata": {
        "id": "Yy8nXmliY7qT",
        "colab_type": "code",
        "colab": {}
      },
      "source": [
        "print(len(power_data.Day.value_counts()), len(power_data.Month.value_counts()))"
      ],
      "execution_count": null,
      "outputs": []
    },
    {
      "cell_type": "code",
      "metadata": {
        "id": "Cfd_blhIbUEO",
        "colab_type": "code",
        "colab": {}
      },
      "source": [
        "power_data.Timestamp"
      ],
      "execution_count": null,
      "outputs": []
    },
    {
      "cell_type": "code",
      "metadata": {
        "id": "wVgg4bFYF47a",
        "colab_type": "code",
        "colab": {}
      },
      "source": [
        "turbine_data[['Latitude', 'Longitude']]"
      ],
      "execution_count": null,
      "outputs": []
    },
    {
      "cell_type": "code",
      "metadata": {
        "id": "EkVTQ03xM9UK",
        "colab_type": "code",
        "colab": {}
      },
      "source": [
        "a = ds0.to_dataframe()\n",
        "a = a.reset_index()\n",
        "a.head()"
      ],
      "execution_count": null,
      "outputs": []
    },
    {
      "cell_type": "code",
      "metadata": {
        "id": "KSwLa3pOWLth",
        "colab_type": "code",
        "colab": {}
      },
      "source": [
        "a = a[a.ensemble_member == 0]\n",
        "a.head()"
      ],
      "execution_count": null,
      "outputs": []
    },
    {
      "cell_type": "code",
      "metadata": {
        "id": "K9-lZPdbWlv1",
        "colab_type": "code",
        "colab": {}
      },
      "source": [
        "a = a[a.time == ' 2000-01-01 00:00:00']"
      ],
      "execution_count": null,
      "outputs": []
    },
    {
      "cell_type": "code",
      "metadata": {
        "id": "39Qg4nKfXC_5",
        "colab_type": "code",
        "colab": {}
      },
      "source": [
        "NWP_Coordinates = a[['latitude','longitude']]"
      ],
      "execution_count": null,
      "outputs": []
    },
    {
      "cell_type": "code",
      "metadata": {
        "id": "M_rLiu6SX1xQ",
        "colab_type": "code",
        "colab": {}
      },
      "source": [
        ""
      ],
      "execution_count": null,
      "outputs": []
    },
    {
      "cell_type": "code",
      "metadata": {
        "id": "TEcdbiK1X6oj",
        "colab_type": "code",
        "colab": {}
      },
      "source": [
        ""
      ],
      "execution_count": null,
      "outputs": []
    }
  ]
}